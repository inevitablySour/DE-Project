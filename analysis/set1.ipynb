{
 "cells": [
  {
   "cell_type": "markdown",
   "id": "07952b76",
   "metadata": {},
   "source": [
    "# Data engineering Healthcare Project\n",
    "---\n",
    "### Data Analysis "
   ]
  },
  {
   "cell_type": "markdown",
   "id": "6de55869",
   "metadata": {},
   "source": [
    "In this notebook, we analyze the provided datasets and compare three database systems.\n",
    "We also motivate our final database choice based on the structure and properties of the data."
   ]
  },
  {
   "cell_type": "markdown",
   "id": "6459a1f4",
   "metadata": {},
   "source": [
    "## I'm going to try and answer these key questions:\n",
    "\n",
    "---\n",
    "\n",
    "### Types of Data\n",
    "- [ ] Is the data structured, semi-structured, or unstructured?\n",
    "- [ ] What kind of data is it? (e.g., patient info, vital signs, diagnoses)\n",
    "- [ ] What data formats are used? (e.g., CSV, JSON)\n",
    "\n",
    "---\n",
    "\n",
    "### Metadata & Schema\n",
    "- [ ] Are column names clear and meaningful?\n",
    "- [ ] What is the data type of each column? (int, float, string, datetime)\n",
    "- [ ] Are there unique identifiers? (e.g., patient_id)\n",
    "- [ ] Are there relationships between tables? (e.g., foreign keys?)\n",
    "\n",
    "---\n",
    "\n",
    "### Data Overview\n",
    "- [ ] How many files or tables are there?\n",
    "- [ ] How many rows and columns in each?\n",
    "\n",
    "---\n",
    "\n",
    "### Missing Values\n",
    "- [ ] Which columns have missing values?\n",
    "- [ ] What percentage of each column is missing?\n",
    "\n",
    "---\n",
    "\n",
    "### Data Quality\n",
    "- [ ] Are there duplicate rows or IDs?\n",
    "- [ ] Are category labels consistent? (e.g., \"Male\", \"male\", \"M\")\n",
    "- [ ] Are there logical errors? (e.g., birthdate after visit date)\n",
    "\n",
    "---\n",
    "\n",
    "### Privacy & Sensitivity\n",
    "- [ ] Are there any personal identifiers? (e.g., name, address)\n",
    "- [ ] Should any data be anonymized or masked?\n",
    "\n",
    "---\n",
    "\n",
    "### Summary & Next Steps\n",
    "- [ ] What kind of cleaning might be needed?\n",
    "- [ ] Is the data ready for processing and storage?\n"
   ]
  },
  {
   "cell_type": "markdown",
   "id": "609d5bd9",
   "metadata": {},
   "source": [
    "Lets start importing relevant libraries, i will use pandas and numpy ofc for the data, matplotlib and seaborn for visualising, next to matplotlib, seaborn is excelent at visualising with pandas dataframes and makes my life a lot easier"
   ]
  },
  {
   "cell_type": "code",
   "execution_count": 75,
   "id": "76cc64b7",
   "metadata": {},
   "outputs": [],
   "source": [
    "import pandas as pd\n",
    "import numpy as np\n",
    "\n",
    "import matplotlib.pyplot as plt\n",
    "import seaborn as sns\n",
    "\n",
    "sns.set_style(\"whitegrid\")"
   ]
  },
  {
   "cell_type": "markdown",
   "id": "19c3d653",
   "metadata": {},
   "source": [
    "Now were going to import the data of set1 (observations_cleaned.csv, patients_cleaned.csv, procedures_cleaned.csv) they are all in csv format."
   ]
  },
  {
   "cell_type": "code",
   "execution_count": 64,
   "id": "7c593377",
   "metadata": {},
   "outputs": [],
   "source": [
    "observations = pd.read_csv(\"../cleaned_data/observations_cleaned.csv\")\n",
    "patients = pd.read_csv(\"../cleaned_data/patients_cleaned.csv\")\n",
    "procedures = pd.read_csv(\"../cleaned_data/procedures_cleaned.csv\")"
   ]
  },
  {
   "cell_type": "markdown",
   "id": "432b8171",
   "metadata": {},
   "source": [
    "Lets try to answer the questions:\n",
    "### 1. Is the data structured, semi-structured, or unstructured? Spoiler: Structered"
   ]
  },
  {
   "cell_type": "code",
   "execution_count": 65,
   "id": "e106317c",
   "metadata": {},
   "outputs": [
    {
     "data": {
      "text/html": [
       "<div>\n",
       "<style scoped>\n",
       "    .dataframe tbody tr th:only-of-type {\n",
       "        vertical-align: middle;\n",
       "    }\n",
       "\n",
       "    .dataframe tbody tr th {\n",
       "        vertical-align: top;\n",
       "    }\n",
       "\n",
       "    .dataframe thead th {\n",
       "        text-align: right;\n",
       "    }\n",
       "</style>\n",
       "<table border=\"1\" class=\"dataframe\">\n",
       "  <thead>\n",
       "    <tr style=\"text-align: right;\">\n",
       "      <th></th>\n",
       "      <th>encounter_id</th>\n",
       "      <th>observation_code</th>\n",
       "      <th>observation_datetime</th>\n",
       "      <th>observation_description</th>\n",
       "      <th>observation_id</th>\n",
       "      <th>patient_id</th>\n",
       "      <th>units</th>\n",
       "      <th>value_numeric</th>\n",
       "      <th>value_text</th>\n",
       "    </tr>\n",
       "  </thead>\n",
       "  <tbody>\n",
       "    <tr>\n",
       "      <th>0</th>\n",
       "      <td>f5f83a54-5883-413d-9bb4-c859fa6b8cde</td>\n",
       "      <td>4548-4</td>\n",
       "      <td>2025-04-14</td>\n",
       "      <td>Hemoglobin A1c/Hemoglobin.total in Blood</td>\n",
       "      <td>c70dc224-4c15-43ec-89b6-ed7821d80df2</td>\n",
       "      <td>ea3a68f6-ecf9-46aa-be97-7ecbfc7e7fcb</td>\n",
       "      <td>%</td>\n",
       "      <td>7.6</td>\n",
       "      <td>NaN</td>\n",
       "    </tr>\n",
       "    <tr>\n",
       "      <th>1</th>\n",
       "      <td>f5f83a54-5883-413d-9bb4-c859fa6b8cde</td>\n",
       "      <td>2345-7</td>\n",
       "      <td>2025-04-14</td>\n",
       "      <td>Glucose [Mass/Vol]</td>\n",
       "      <td>065df109-6962-496e-82a7-ab975746f265</td>\n",
       "      <td>ea3a68f6-ecf9-46aa-be97-7ecbfc7e7fcb</td>\n",
       "      <td>mg/dL</td>\n",
       "      <td>210.0</td>\n",
       "      <td>NaN</td>\n",
       "    </tr>\n",
       "    <tr>\n",
       "      <th>2</th>\n",
       "      <td>f5f83a54-5883-413d-9bb4-c859fa6b8cde</td>\n",
       "      <td>2160-0</td>\n",
       "      <td>2025-04-14</td>\n",
       "      <td>Creatinine [Mass/Vol]</td>\n",
       "      <td>ea1a0317-d4cf-4f4c-9d3b-9e87700f67bc</td>\n",
       "      <td>ea3a68f6-ecf9-46aa-be97-7ecbfc7e7fcb</td>\n",
       "      <td>mg/dL</td>\n",
       "      <td>1.0</td>\n",
       "      <td>NaN</td>\n",
       "    </tr>\n",
       "    <tr>\n",
       "      <th>3</th>\n",
       "      <td>a4345130-e167-45b5-9e60-75a1815d3ae0</td>\n",
       "      <td>8480-6</td>\n",
       "      <td>2026-04-08</td>\n",
       "      <td>Systolic blood pressure</td>\n",
       "      <td>8cd3eab8-0a7b-4e49-856c-ba2a081f969f</td>\n",
       "      <td>ea3a68f6-ecf9-46aa-be97-7ecbfc7e7fcb</td>\n",
       "      <td>mmHg</td>\n",
       "      <td>101.0</td>\n",
       "      <td>NaN</td>\n",
       "    </tr>\n",
       "    <tr>\n",
       "      <th>4</th>\n",
       "      <td>a4345130-e167-45b5-9e60-75a1815d3ae0</td>\n",
       "      <td>8462-4</td>\n",
       "      <td>2026-04-08</td>\n",
       "      <td>Diastolic blood pressure</td>\n",
       "      <td>31cb9c28-2bad-431a-b59a-6be7750e3184</td>\n",
       "      <td>ea3a68f6-ecf9-46aa-be97-7ecbfc7e7fcb</td>\n",
       "      <td>mmHg</td>\n",
       "      <td>68.0</td>\n",
       "      <td>NaN</td>\n",
       "    </tr>\n",
       "  </tbody>\n",
       "</table>\n",
       "</div>"
      ],
      "text/plain": [
       "                           encounter_id observation_code observation_datetime  \\\n",
       "0  f5f83a54-5883-413d-9bb4-c859fa6b8cde           4548-4           2025-04-14   \n",
       "1  f5f83a54-5883-413d-9bb4-c859fa6b8cde           2345-7           2025-04-14   \n",
       "2  f5f83a54-5883-413d-9bb4-c859fa6b8cde           2160-0           2025-04-14   \n",
       "3  a4345130-e167-45b5-9e60-75a1815d3ae0           8480-6           2026-04-08   \n",
       "4  a4345130-e167-45b5-9e60-75a1815d3ae0           8462-4           2026-04-08   \n",
       "\n",
       "                    observation_description  \\\n",
       "0  Hemoglobin A1c/Hemoglobin.total in Blood   \n",
       "1                        Glucose [Mass/Vol]   \n",
       "2                     Creatinine [Mass/Vol]   \n",
       "3                   Systolic blood pressure   \n",
       "4                  Diastolic blood pressure   \n",
       "\n",
       "                         observation_id                            patient_id  \\\n",
       "0  c70dc224-4c15-43ec-89b6-ed7821d80df2  ea3a68f6-ecf9-46aa-be97-7ecbfc7e7fcb   \n",
       "1  065df109-6962-496e-82a7-ab975746f265  ea3a68f6-ecf9-46aa-be97-7ecbfc7e7fcb   \n",
       "2  ea1a0317-d4cf-4f4c-9d3b-9e87700f67bc  ea3a68f6-ecf9-46aa-be97-7ecbfc7e7fcb   \n",
       "3  8cd3eab8-0a7b-4e49-856c-ba2a081f969f  ea3a68f6-ecf9-46aa-be97-7ecbfc7e7fcb   \n",
       "4  31cb9c28-2bad-431a-b59a-6be7750e3184  ea3a68f6-ecf9-46aa-be97-7ecbfc7e7fcb   \n",
       "\n",
       "   units  value_numeric value_text  \n",
       "0      %            7.6        NaN  \n",
       "1  mg/dL          210.0        NaN  \n",
       "2  mg/dL            1.0        NaN  \n",
       "3   mmHg          101.0        NaN  \n",
       "4   mmHg           68.0        NaN  "
      ]
     },
     "execution_count": 65,
     "metadata": {},
     "output_type": "execute_result"
    }
   ],
   "source": [
    "observations.head()"
   ]
  },
  {
   "cell_type": "code",
   "execution_count": 66,
   "id": "03cd61ae",
   "metadata": {},
   "outputs": [
    {
     "data": {
      "text/html": [
       "<div>\n",
       "<style scoped>\n",
       "    .dataframe tbody tr th:only-of-type {\n",
       "        vertical-align: middle;\n",
       "    }\n",
       "\n",
       "    .dataframe tbody tr th {\n",
       "        vertical-align: top;\n",
       "    }\n",
       "\n",
       "    .dataframe thead th {\n",
       "        text-align: right;\n",
       "    }\n",
       "</style>\n",
       "<table border=\"1\" class=\"dataframe\">\n",
       "  <thead>\n",
       "    <tr style=\"text-align: right;\">\n",
       "      <th></th>\n",
       "      <th>address</th>\n",
       "      <th>city</th>\n",
       "      <th>date_of_birth</th>\n",
       "      <th>first_name</th>\n",
       "      <th>gender</th>\n",
       "      <th>last_name</th>\n",
       "      <th>patient_id</th>\n",
       "      <th>phone_number</th>\n",
       "      <th>state</th>\n",
       "      <th>zip_code</th>\n",
       "    </tr>\n",
       "  </thead>\n",
       "  <tbody>\n",
       "    <tr>\n",
       "      <th>0</th>\n",
       "      <td>26236 Nunez Road Apt. 527</td>\n",
       "      <td>Sharpchester</td>\n",
       "      <td>1985-01-11</td>\n",
       "      <td>Juan</td>\n",
       "      <td>Male</td>\n",
       "      <td>Calderon</td>\n",
       "      <td>ea3a68f6-ecf9-46aa-be97-7ecbfc7e7fcb</td>\n",
       "      <td>+4246662958x202</td>\n",
       "      <td>MD</td>\n",
       "      <td>9173</td>\n",
       "    </tr>\n",
       "    <tr>\n",
       "      <th>1</th>\n",
       "      <td>90829 Thomas Summit</td>\n",
       "      <td>East Christophermouth</td>\n",
       "      <td>1981-12-11</td>\n",
       "      <td>Paul</td>\n",
       "      <td>Male</td>\n",
       "      <td>Price</td>\n",
       "      <td>0eeb5541-d0b3-47fe-839c-a2227526b751</td>\n",
       "      <td>+15154233703</td>\n",
       "      <td>ND</td>\n",
       "      <td>62828</td>\n",
       "    </tr>\n",
       "    <tr>\n",
       "      <th>2</th>\n",
       "      <td>3939 Sarah Ridges</td>\n",
       "      <td>Jeffreyburgh</td>\n",
       "      <td>1950-12-17</td>\n",
       "      <td>Julie</td>\n",
       "      <td>Female</td>\n",
       "      <td>Brown</td>\n",
       "      <td>83f30300-2873-49f7-8fe4-06903a75db73</td>\n",
       "      <td>+0016517844153</td>\n",
       "      <td>NH</td>\n",
       "      <td>80694</td>\n",
       "    </tr>\n",
       "    <tr>\n",
       "      <th>3</th>\n",
       "      <td>5559 Walton Inlet</td>\n",
       "      <td>West Holly</td>\n",
       "      <td>1963-01-22</td>\n",
       "      <td>Sarah</td>\n",
       "      <td>Female</td>\n",
       "      <td>Dillon</td>\n",
       "      <td>3a707a9a-00b9-40f1-90bf-1a4ff74fcb61</td>\n",
       "      <td>+0019383725030x5868</td>\n",
       "      <td>AK</td>\n",
       "      <td>30233</td>\n",
       "    </tr>\n",
       "    <tr>\n",
       "      <th>4</th>\n",
       "      <td>4609 Reginald Plaza Apt. 985</td>\n",
       "      <td>Megantown</td>\n",
       "      <td>1943-01-06</td>\n",
       "      <td>Laura</td>\n",
       "      <td>Female</td>\n",
       "      <td>Brown</td>\n",
       "      <td>825e3f21-ca2a-442a-8d95-7f3dd64c3c6a</td>\n",
       "      <td>+8447233702</td>\n",
       "      <td>FL</td>\n",
       "      <td>40222</td>\n",
       "    </tr>\n",
       "  </tbody>\n",
       "</table>\n",
       "</div>"
      ],
      "text/plain": [
       "                        address                   city date_of_birth  \\\n",
       "0     26236 Nunez Road Apt. 527           Sharpchester    1985-01-11   \n",
       "1           90829 Thomas Summit  East Christophermouth    1981-12-11   \n",
       "2             3939 Sarah Ridges           Jeffreyburgh    1950-12-17   \n",
       "3             5559 Walton Inlet             West Holly    1963-01-22   \n",
       "4  4609 Reginald Plaza Apt. 985              Megantown    1943-01-06   \n",
       "\n",
       "  first_name  gender last_name                            patient_id  \\\n",
       "0       Juan    Male  Calderon  ea3a68f6-ecf9-46aa-be97-7ecbfc7e7fcb   \n",
       "1       Paul    Male     Price  0eeb5541-d0b3-47fe-839c-a2227526b751   \n",
       "2      Julie  Female     Brown  83f30300-2873-49f7-8fe4-06903a75db73   \n",
       "3      Sarah  Female    Dillon  3a707a9a-00b9-40f1-90bf-1a4ff74fcb61   \n",
       "4      Laura  Female     Brown  825e3f21-ca2a-442a-8d95-7f3dd64c3c6a   \n",
       "\n",
       "          phone_number state  zip_code  \n",
       "0      +4246662958x202    MD      9173  \n",
       "1         +15154233703    ND     62828  \n",
       "2       +0016517844153    NH     80694  \n",
       "3  +0019383725030x5868    AK     30233  \n",
       "4          +8447233702    FL     40222  "
      ]
     },
     "execution_count": 66,
     "metadata": {},
     "output_type": "execute_result"
    }
   ],
   "source": [
    "patients.head()"
   ]
  },
  {
   "cell_type": "code",
   "execution_count": 67,
   "id": "a925f287",
   "metadata": {},
   "outputs": [
    {
     "data": {
      "text/html": [
       "<div>\n",
       "<style scoped>\n",
       "    .dataframe tbody tr th:only-of-type {\n",
       "        vertical-align: middle;\n",
       "    }\n",
       "\n",
       "    .dataframe tbody tr th {\n",
       "        vertical-align: top;\n",
       "    }\n",
       "\n",
       "    .dataframe thead th {\n",
       "        text-align: right;\n",
       "    }\n",
       "</style>\n",
       "<table border=\"1\" class=\"dataframe\">\n",
       "  <thead>\n",
       "    <tr style=\"text-align: right;\">\n",
       "      <th></th>\n",
       "      <th>date_performed</th>\n",
       "      <th>encounter_id</th>\n",
       "      <th>patient_id</th>\n",
       "      <th>procedure_code</th>\n",
       "      <th>procedure_description</th>\n",
       "      <th>procedure_id</th>\n",
       "    </tr>\n",
       "  </thead>\n",
       "  <tbody>\n",
       "    <tr>\n",
       "      <th>0</th>\n",
       "      <td>2026-04-08</td>\n",
       "      <td>a4345130-e167-45b5-9e60-75a1815d3ae0</td>\n",
       "      <td>ea3a68f6-ecf9-46aa-be97-7ecbfc7e7fcb</td>\n",
       "      <td>90686</td>\n",
       "      <td>Influenza virus vaccine, quadrivalent</td>\n",
       "      <td>5f2e0689-60e3-47b3-a38f-d28003acd902</td>\n",
       "    </tr>\n",
       "    <tr>\n",
       "      <th>1</th>\n",
       "      <td>2000-06-21</td>\n",
       "      <td>946bb28d-741a-4e03-8a1f-7a8d96e75a4e</td>\n",
       "      <td>83f30300-2873-49f7-8fe4-06903a75db73</td>\n",
       "      <td>90686</td>\n",
       "      <td>Influenza virus vaccine, quadrivalent</td>\n",
       "      <td>8f3434ea-7fa8-4fee-91e5-67117def181f</td>\n",
       "    </tr>\n",
       "    <tr>\n",
       "      <th>2</th>\n",
       "      <td>2024-03-08</td>\n",
       "      <td>c0736418-c4a8-4201-8c4c-0b24c923886f</td>\n",
       "      <td>5b2fa6df-d688-44cd-9c4a-9016eeb2989d</td>\n",
       "      <td>92014</td>\n",
       "      <td>Ophthalmological examination and evaluation, c...</td>\n",
       "      <td>7036a518-b594-4409-a939-06676e0cffa2</td>\n",
       "    </tr>\n",
       "    <tr>\n",
       "      <th>3</th>\n",
       "      <td>2025-07-03</td>\n",
       "      <td>4dd9bf3c-3308-45a2-91cb-92f59842abff</td>\n",
       "      <td>5b2fa6df-d688-44cd-9c4a-9016eeb2989d</td>\n",
       "      <td>90686</td>\n",
       "      <td>Influenza virus vaccine, quadrivalent</td>\n",
       "      <td>186297e1-c8a8-44b2-93ec-b3751cae31ea</td>\n",
       "    </tr>\n",
       "    <tr>\n",
       "      <th>4</th>\n",
       "      <td>2008-10-14</td>\n",
       "      <td>a63d2106-a907-42c8-9f4a-7124eeeed185</td>\n",
       "      <td>2b091a02-499d-498e-8f35-e5f6c24d54d3</td>\n",
       "      <td>92014</td>\n",
       "      <td>Ophthalmological examination and evaluation, c...</td>\n",
       "      <td>06662205-7ef7-4949-917e-9067acf3c8ba</td>\n",
       "    </tr>\n",
       "  </tbody>\n",
       "</table>\n",
       "</div>"
      ],
      "text/plain": [
       "  date_performed                          encounter_id  \\\n",
       "0     2026-04-08  a4345130-e167-45b5-9e60-75a1815d3ae0   \n",
       "1     2000-06-21  946bb28d-741a-4e03-8a1f-7a8d96e75a4e   \n",
       "2     2024-03-08  c0736418-c4a8-4201-8c4c-0b24c923886f   \n",
       "3     2025-07-03  4dd9bf3c-3308-45a2-91cb-92f59842abff   \n",
       "4     2008-10-14  a63d2106-a907-42c8-9f4a-7124eeeed185   \n",
       "\n",
       "                             patient_id  procedure_code  \\\n",
       "0  ea3a68f6-ecf9-46aa-be97-7ecbfc7e7fcb           90686   \n",
       "1  83f30300-2873-49f7-8fe4-06903a75db73           90686   \n",
       "2  5b2fa6df-d688-44cd-9c4a-9016eeb2989d           92014   \n",
       "3  5b2fa6df-d688-44cd-9c4a-9016eeb2989d           90686   \n",
       "4  2b091a02-499d-498e-8f35-e5f6c24d54d3           92014   \n",
       "\n",
       "                               procedure_description  \\\n",
       "0              Influenza virus vaccine, quadrivalent   \n",
       "1              Influenza virus vaccine, quadrivalent   \n",
       "2  Ophthalmological examination and evaluation, c...   \n",
       "3              Influenza virus vaccine, quadrivalent   \n",
       "4  Ophthalmological examination and evaluation, c...   \n",
       "\n",
       "                           procedure_id  \n",
       "0  5f2e0689-60e3-47b3-a38f-d28003acd902  \n",
       "1  8f3434ea-7fa8-4fee-91e5-67117def181f  \n",
       "2  7036a518-b594-4409-a939-06676e0cffa2  \n",
       "3  186297e1-c8a8-44b2-93ec-b3751cae31ea  \n",
       "4  06662205-7ef7-4949-917e-9067acf3c8ba  "
      ]
     },
     "execution_count": 67,
     "metadata": {},
     "output_type": "execute_result"
    }
   ],
   "source": [
    "procedures.head()"
   ]
  },
  {
   "cell_type": "markdown",
   "id": "906245c7",
   "metadata": {},
   "source": [
    "Looks pretty good to me letch check columns"
   ]
  },
  {
   "cell_type": "code",
   "execution_count": 68,
   "id": "2f633734",
   "metadata": {},
   "outputs": [
    {
     "data": {
      "text/plain": [
       "['encounter_id',\n",
       " 'observation_code',\n",
       " 'observation_datetime',\n",
       " 'observation_description',\n",
       " 'observation_id',\n",
       " 'patient_id',\n",
       " 'units',\n",
       " 'value_numeric',\n",
       " 'value_text']"
      ]
     },
     "execution_count": 68,
     "metadata": {},
     "output_type": "execute_result"
    }
   ],
   "source": [
    "observations.columns.tolist()"
   ]
  },
  {
   "cell_type": "code",
   "execution_count": 69,
   "id": "ffbf4fe2",
   "metadata": {},
   "outputs": [
    {
     "data": {
      "text/plain": [
       "['address',\n",
       " 'city',\n",
       " 'date_of_birth',\n",
       " 'first_name',\n",
       " 'gender',\n",
       " 'last_name',\n",
       " 'patient_id',\n",
       " 'phone_number',\n",
       " 'state',\n",
       " 'zip_code']"
      ]
     },
     "execution_count": 69,
     "metadata": {},
     "output_type": "execute_result"
    }
   ],
   "source": [
    "patients.columns.tolist()"
   ]
  },
  {
   "cell_type": "code",
   "execution_count": 70,
   "id": "91c7729b",
   "metadata": {},
   "outputs": [
    {
     "data": {
      "text/plain": [
       "['address',\n",
       " 'city',\n",
       " 'date_of_birth',\n",
       " 'first_name',\n",
       " 'gender',\n",
       " 'last_name',\n",
       " 'patient_id',\n",
       " 'phone_number',\n",
       " 'state',\n",
       " 'zip_code']"
      ]
     },
     "execution_count": 70,
     "metadata": {},
     "output_type": "execute_result"
    }
   ],
   "source": [
    "patients.columns.tolist()"
   ]
  },
  {
   "cell_type": "markdown",
   "id": "8e2706d4",
   "metadata": {},
   "source": [
    "Lets check if we have columns that are named null"
   ]
  },
  {
   "cell_type": "code",
   "execution_count": 71,
   "id": "9ff23bd1",
   "metadata": {},
   "outputs": [
    {
     "data": {
      "text/plain": [
       "array([False, False, False, False, False, False, False, False, False])"
      ]
     },
     "execution_count": 71,
     "metadata": {},
     "output_type": "execute_result"
    }
   ],
   "source": [
    "observations.columns.isnull()"
   ]
  },
  {
   "cell_type": "code",
   "execution_count": 72,
   "id": "1202aad0",
   "metadata": {},
   "outputs": [
    {
     "data": {
      "text/plain": [
       "array([False, False, False, False, False, False, False, False, False,\n",
       "       False])"
      ]
     },
     "execution_count": 72,
     "metadata": {},
     "output_type": "execute_result"
    }
   ],
   "source": [
    "patients.columns.isnull()"
   ]
  },
  {
   "cell_type": "code",
   "execution_count": 73,
   "id": "525880d1",
   "metadata": {},
   "outputs": [
    {
     "data": {
      "text/plain": [
       "array([False, False, False, False, False, False])"
      ]
     },
     "execution_count": 73,
     "metadata": {},
     "output_type": "execute_result"
    }
   ],
   "source": [
    "procedures.columns.isnull()"
   ]
  },
  {
   "cell_type": "markdown",
   "id": "accd6c50",
   "metadata": {},
   "source": [
    "Nope"
   ]
  },
  {
   "cell_type": "markdown",
   "id": "35b0aee9",
   "metadata": {},
   "source": [
    "Now lets check if the data types are consistent, we can create a function to run this on each dataframe"
   ]
  },
  {
   "cell_type": "code",
   "execution_count": 77,
   "id": "fc67b186",
   "metadata": {},
   "outputs": [],
   "source": [
    "def data_types(df):\n",
    "    count = 0\n",
    "    for col in df:\n",
    "        non_null = df[col].dropna()\n",
    "        if non_null.empty:\n",
    "            print(f'Column {col} is empty or all missing')\n",
    "            continue\n",
    "\n",
    "        is_numeric = pd.to_numeric(non_null, errors='coerce').notnull().all()\n",
    "        if is_numeric:\n",
    "            print(f\"Column '{col}' contains numeric data.\")\n",
    "            count += 1\n",
    "        else:\n",
    "            print(f\"Column '{col}' contains non-numeric or mixed data.\")\n",
    "\n",
    "    print(f'{count} out of {len(df.columns)} full numerical data columns')"
   ]
  },
  {
   "cell_type": "code",
   "execution_count": null,
   "id": "82cb18c9",
   "metadata": {},
   "outputs": [
    {
     "name": "stdout",
     "output_type": "stream",
     "text": [
      "Column 'encounter_id' contains non-numeric or mixed data.\n",
      "Column 'observation_code' contains non-numeric or mixed data.\n",
      "Column 'observation_datetime' contains non-numeric or mixed data.\n",
      "Column 'observation_description' contains non-numeric or mixed data.\n",
      "Column 'observation_id' contains non-numeric or mixed data.\n",
      "Column 'patient_id' contains non-numeric or mixed data.\n",
      "Column 'units' contains non-numeric or mixed data.\n",
      "Column 'value_numeric' contains numeric data.\n",
      "Column 'value_text' contains non-numeric or mixed data.\n",
      "1 out of 9 full numerical data columns\n"
     ]
    }
   ],
   "source": [
    "data_types(observations)"
   ]
  },
  {
   "cell_type": "code",
   "execution_count": null,
   "id": "ea6957b4",
   "metadata": {},
   "outputs": [
    {
     "name": "stdout",
     "output_type": "stream",
     "text": [
      "Column 'address' contains non-numeric or mixed data.\n",
      "Column 'city' contains non-numeric or mixed data.\n",
      "Column 'date_of_birth' contains non-numeric or mixed data.\n",
      "Column 'first_name' contains non-numeric or mixed data.\n",
      "Column 'gender' contains non-numeric or mixed data.\n",
      "Column 'last_name' contains non-numeric or mixed data.\n",
      "Column 'patient_id' contains non-numeric or mixed data.\n",
      "Column 'phone_number' contains non-numeric or mixed data.\n",
      "Column 'state' contains non-numeric or mixed data.\n",
      "Column 'zip_code' contains numeric data.\n",
      "1 out of 10 full numerical data columns\n"
     ]
    }
   ],
   "source": [
    "data_types(patients)"
   ]
  },
  {
   "cell_type": "code",
   "execution_count": null,
   "id": "db643f5c",
   "metadata": {},
   "outputs": [
    {
     "name": "stdout",
     "output_type": "stream",
     "text": [
      "Column 'date_performed' contains non-numeric or mixed data.\n",
      "Column 'encounter_id' contains non-numeric or mixed data.\n",
      "Column 'patient_id' contains non-numeric or mixed data.\n",
      "Column 'procedure_code' contains numeric data.\n",
      "Column 'procedure_description' contains non-numeric or mixed data.\n",
      "Column 'procedure_id' contains non-numeric or mixed data.\n",
      "1 out of 6 full numerical data columns\n"
     ]
    }
   ],
   "source": [
    "data_types(procedures)"
   ]
  },
  {
   "cell_type": "markdown",
   "id": "e2ec67a6",
   "metadata": {},
   "source": [
    "consistent columns and clean headers, lets now check missing values"
   ]
  },
  {
   "cell_type": "markdown",
   "id": "f9bb8fc7",
   "metadata": {},
   "source": [
    "lets write a simple function for this"
   ]
  },
  {
   "cell_type": "code",
   "execution_count": 81,
   "id": "ec5cb2cd",
   "metadata": {},
   "outputs": [],
   "source": [
    "def missing(df):\n",
    "    missing_counts = df.isnull().sum()\n",
    "    print(\"Missing values per column:\")\n",
    "    print(missing_counts)"
   ]
  },
  {
   "cell_type": "code",
   "execution_count": 82,
   "id": "37111a26",
   "metadata": {},
   "outputs": [
    {
     "name": "stdout",
     "output_type": "stream",
     "text": [
      "Missing values per column:\n",
      "encounter_id                 0\n",
      "observation_code             0\n",
      "observation_datetime         0\n",
      "observation_description      0\n",
      "observation_id               0\n",
      "patient_id                   0\n",
      "units                       25\n",
      "value_numeric               25\n",
      "value_text                 861\n",
      "dtype: int64\n"
     ]
    }
   ],
   "source": [
    "missing(observations)"
   ]
  },
  {
   "cell_type": "code",
   "execution_count": 85,
   "id": "759ff157",
   "metadata": {},
   "outputs": [
    {
     "data": {
      "text/plain": [
       "(886, 9)"
      ]
     },
     "execution_count": 85,
     "metadata": {},
     "output_type": "execute_result"
    }
   ],
   "source": [
    "observations.shape"
   ]
  },
  {
   "cell_type": "markdown",
   "id": "bd11b8f6",
   "metadata": {},
   "source": [
    "a lot of missing values in value_text only 5 rows are filled"
   ]
  },
  {
   "cell_type": "code",
   "execution_count": 83,
   "id": "fe2e8fd0",
   "metadata": {},
   "outputs": [
    {
     "name": "stdout",
     "output_type": "stream",
     "text": [
      "Missing values per column:\n",
      "address          0\n",
      "city             0\n",
      "date_of_birth    0\n",
      "first_name       0\n",
      "gender           0\n",
      "last_name        0\n",
      "patient_id       0\n",
      "phone_number     0\n",
      "state            0\n",
      "zip_code         0\n",
      "dtype: int64\n"
     ]
    }
   ],
   "source": [
    "missing(patients)"
   ]
  },
  {
   "cell_type": "markdown",
   "id": "30c905d5",
   "metadata": {},
   "source": [
    "Nice"
   ]
  },
  {
   "cell_type": "code",
   "execution_count": 84,
   "id": "dcf3836d",
   "metadata": {},
   "outputs": [
    {
     "name": "stdout",
     "output_type": "stream",
     "text": [
      "Missing values per column:\n",
      "date_performed           0\n",
      "encounter_id             0\n",
      "patient_id               0\n",
      "procedure_code           0\n",
      "procedure_description    0\n",
      "procedure_id             0\n",
      "dtype: int64\n"
     ]
    }
   ],
   "source": [
    "missing(procedures)"
   ]
  },
  {
   "cell_type": "markdown",
   "id": "3b420b5a",
   "metadata": {},
   "source": [
    "Also nice"
   ]
  },
  {
   "cell_type": "markdown",
   "id": "5494004d",
   "metadata": {},
   "source": [
    "Based on format and consistency, we can confidently say:  \n",
    "**All three datasets are structured**."
   ]
  }
 ],
 "metadata": {
  "kernelspec": {
   "display_name": "Python 3",
   "language": "python",
   "name": "python3"
  },
  "language_info": {
   "codemirror_mode": {
    "name": "ipython",
    "version": 3
   },
   "file_extension": ".py",
   "mimetype": "text/x-python",
   "name": "python",
   "nbconvert_exporter": "python",
   "pygments_lexer": "ipython3",
   "version": "3.12.6"
  }
 },
 "nbformat": 4,
 "nbformat_minor": 5
}
